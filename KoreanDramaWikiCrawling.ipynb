{
  "nbformat": 4,
  "nbformat_minor": 0,
  "metadata": {
    "kernelspec": {
      "display_name": "Python 3",
      "language": "python",
      "name": "python3"
    },
    "language_info": {
      "codemirror_mode": {
        "name": "ipython",
        "version": 3
      },
      "file_extension": ".py",
      "mimetype": "text/x-python",
      "name": "python",
      "nbconvert_exporter": "python",
      "pygments_lexer": "ipython3",
      "version": "3.6.9"
    },
    "colab": {
      "name": "KoreanDramaWikiCrawling.ipynb",
      "provenance": [],
      "include_colab_link": true
    }
  },
  "cells": [
    {
      "cell_type": "markdown",
      "metadata": {
        "id": "view-in-github",
        "colab_type": "text"
      },
      "source": [
        "<a href=\"https://colab.research.google.com/github/SunyoungHa/Python-Tableau-SQL-HTML/blob/Python-Tableau-SQL-HTML/KoreanDramaWikiCrawling.ipynb\" target=\"_parent\"><img src=\"https://colab.research.google.com/assets/colab-badge.svg\" alt=\"Open In Colab\"/></a>"
      ]
    },
    {
      "cell_type": "code",
      "metadata": {
        "id": "6C3tFOaIE4vP",
        "colab_type": "code",
        "outputId": "e341c23f-8533-4358-ea96-12f910a6546a",
        "colab": {
          "base_uri": "https://localhost:8080/",
          "height": 252
        }
      },
      "source": [
        "import requests\n",
        "from bs4 import BeautifulSoup\n",
        "\n",
        "\n",
        "def get_yearly_drama_list(add):\n",
        "    req = requests.get(add)\n",
        "    html = req.text\n",
        "    soup = BeautifulSoup(html, 'html.parser')\n",
        "    \n",
        "    divs = soup.findAll('div', {'class': 'mw-category-group'})\n",
        "    \n",
        "    ipadds = []\n",
        "    for div in divs:\n",
        "        links = div.findAll('a')\n",
        "        #print(links)\n",
        "        \n",
        "        for link in links:\n",
        "            ipadd = link.get('href')\n",
        "            #print(ipadd)\n",
        "            ipadds.append(ipadd)\n",
        "    \n",
        "    return ipadds\n",
        "\n",
        "def get_drama(add):\n",
        "    req = requests.get('https://ko.wikipedia.org'+add)\n",
        "    html = req.text\n",
        "    soup = BeautifulSoup(html, 'html.parser')\n",
        "    \n",
        "    tables = soup.findAll('table',{'class':'wikitable plainrowheaders sortable'})\n",
        "    \n",
        "    dramas = []\n",
        "    for tr in tables:\n",
        "        row = tr.findAll('tr')\n",
        "        for td in row:\n",
        "            cell = td.findAll('td')\n",
        "                          \n",
        "            if len(cell) > 7:  #differet column numbers some are 9, others 11\n",
        "                links = cell[0].findAll('a')\n",
        "                \n",
        "                for link in links:\n",
        "                    drama = link.get('href')\n",
        "                    # print(drama)\n",
        "                    dramas.append(drama)\n",
        "    \n",
        "    return dramas \n",
        "\n",
        "def get_main_characters(add):\n",
        "    req = requests.get('https://ko.wikipedia.org'+ add)\n",
        "    html = req.text\n",
        "    soup = BeautifulSoup(html, 'html.parser')\n",
        "    \n",
        "    tables = soup.findAll('table',{'class':'infobox'})\n",
        "    genre = []\n",
        "    cast = []\n",
        "  \n",
        "    cell =[]\n",
        "    \n",
        "    for tr in tables:\n",
        "        row = tr.findAll('tr')\n",
        "        for td in row:\n",
        "            if td.find('th') != None:\n",
        "                ge = td.find('th').getText()\n",
        "                #print(ge.encode(\"UTF-8\"), len(ge), '장르\\n'.encode(\"UTF-8\"), len(\"장르\"))\n",
        "                if ge.encode(\"UTF-8\") == \"장르\\n\".encode(\"UTF-8\") :\n",
        "                    gen = td.findAll('a')\n",
        "                    print(gen)\n",
        "                elif ge.encode(\"UTF-8\") == \"출연자\\n\".encode(\"UTF-8\") :\n",
        "                    gen = td.findAll('a')\n",
        "                    print(gen)\n",
        "                \n",
        "      \n",
        "    return\n",
        "\n",
        "'''\n",
        "# 연도별 드라마 목록 위키 페이지 url\n",
        "url = 'https://ko.wikipedia.org/wiki/%EB%B6%84%EB%A5%98:%EC%97%B0%EB%8F%84%EB%B3%84_%EB%8C%80%ED%95%9C%EB%AF%BC%EA%B5%AD%EC%9D%98_%ED%85%94%EB%A0%88%EB%B9%84%EC%A0%84_%EB%93%9C%EB%9D%BC%EB%A7%88_%EB%AA%A9%EB%A1%9D'\n",
        "\n",
        "years = get_yearly_drama_list(url)\n",
        "print(years)\n",
        "\n",
        "for year in years:\n",
        "    dramas = get_drama(year)\n",
        "    #print(dramas)\n",
        "    for drama in dramas:\n",
        "      get_main_characters(drama)\n",
        "'''\n",
        "\n",
        "\n",
        "#get_main_characters('/wiki/%EC%99%BC%EC%86%90%EC%9E%A1%EC%9D%B4_%EC%95%84%EB%82%B4')\n",
        "\n",
        "a= get_main_characters('/wiki/막돼먹은_영애씨_17')\n",
        "print(a.text)"
      ],
      "execution_count": 0,
      "outputs": [
        {
          "output_type": "stream",
          "text": [
            "[<a href=\"/wiki/%ED%85%94%EB%A0%88%EB%B9%84%EC%A0%84_%EB%93%9C%EB%9D%BC%EB%A7%88\" title=\"텔레비전 드라마\">드라마</a>]\n",
            "[<a href=\"/wiki/%EA%B9%80%ED%98%84%EC%88%99_(1978%EB%85%84)\" title=\"김현숙 (1978년)\">김현숙</a>, <a href=\"/wiki/%EC%9D%B4%EC%8A%B9%EC%A4%80_(1973%EB%85%84)\" title=\"이승준 (1973년)\">이승준</a>]\n"
          ],
          "name": "stdout"
        },
        {
          "output_type": "error",
          "ename": "AttributeError",
          "evalue": "ignored",
          "traceback": [
            "\u001b[0;31m---------------------------------------------------------------------------\u001b[0m",
            "\u001b[0;31mAttributeError\u001b[0m                            Traceback (most recent call last)",
            "\u001b[0;32m<ipython-input-11-b1104bdb9208>\u001b[0m in \u001b[0;36m<module>\u001b[0;34m()\u001b[0m\n\u001b[1;32m     90\u001b[0m \u001b[0;34m\u001b[0m\u001b[0m\n\u001b[1;32m     91\u001b[0m \u001b[0ma\u001b[0m\u001b[0;34m=\u001b[0m \u001b[0mget_main_characters\u001b[0m\u001b[0;34m(\u001b[0m\u001b[0;34m'/wiki/막돼먹은_영애씨_17'\u001b[0m\u001b[0;34m)\u001b[0m\u001b[0;34m\u001b[0m\u001b[0;34m\u001b[0m\u001b[0m\n\u001b[0;32m---> 92\u001b[0;31m \u001b[0mprint\u001b[0m\u001b[0;34m(\u001b[0m\u001b[0ma\u001b[0m\u001b[0;34m.\u001b[0m\u001b[0mtext\u001b[0m\u001b[0;34m)\u001b[0m\u001b[0;34m\u001b[0m\u001b[0;34m\u001b[0m\u001b[0m\n\u001b[0m",
            "\u001b[0;31mAttributeError\u001b[0m: 'NoneType' object has no attribute 'text'"
          ]
        }
      ]
    },
    {
      "cell_type": "code",
      "metadata": {
        "id": "I2XtK0SFE4vT",
        "colab_type": "code",
        "colab": {}
      },
      "source": [
        ""
      ],
      "execution_count": 0,
      "outputs": []
    }
  ]
}
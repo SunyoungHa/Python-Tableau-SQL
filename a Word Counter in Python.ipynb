{
 "cells": [
  {
   "cell_type": "code",
   "execution_count": 27,
   "metadata": {},
   "outputs": [],
   "source": [
    "def count_words(data):\n",
    "    word=data.split(' ') #breaks the string into a list\n",
    "    num_words=len(word) #many elements the list has, and hence the number of words\n",
    "    return num_words"
   ]
  },
  {
   "cell_type": "code",
   "execution_count": 28,
   "metadata": {},
   "outputs": [],
   "source": [
    "def count_lines(data):\n",
    "    lines = data.split('\\n')\n",
    "    for l in lines:\n",
    "        if len(l) == 0:\n",
    "            lines.remove(l)\n",
    "    return (len(lines))"
   ]
  },
  {
   "cell_type": "code",
   "execution_count": 36,
   "metadata": {},
   "outputs": [
    {
     "name": "stdout",
     "output_type": "stream",
     "text": [
      "The number of words:  16060\n",
      "The number of lines:  832\n"
     ]
    }
   ],
   "source": [
    "if __name__ == \"__main__\":\n",
    "    filename = sys.argv[1]\n",
    "    f=open('little_prince.txt','r')\n",
    "    data = f.read()\n",
    "    f.close()\n",
    "    \n",
    "    num_words = count_words(data)\n",
    "    num_lines = count_lines(data)\n",
    " \n",
    "    print(\"The number of words: \", num_words)\n",
    "    print(\"The number of lines: \", num_lines)\n",
    "\n",
    "   "
   ]
  }
 ],
 "metadata": {
  "kernelspec": {
   "display_name": "Python 3",
   "language": "python",
   "name": "python3"
  },
  "language_info": {
   "codemirror_mode": {
    "name": "ipython",
    "version": 3
   },
   "file_extension": ".py",
   "mimetype": "text/x-python",
   "name": "python",
   "nbconvert_exporter": "python",
   "pygments_lexer": "ipython3",
   "version": "3.7.3"
  }
 },
 "nbformat": 4,
 "nbformat_minor": 2
}

{
 "cells": [
  {
   "cell_type": "code",
   "execution_count": 22,
   "metadata": {},
   "outputs": [
    {
     "data": {
      "text/plain": [
       "'TT'"
      ]
     },
     "execution_count": 22,
     "metadata": {},
     "output_type": "execute_result"
    }
   ],
   "source": [
    "#Given a string, return a string where for every char in the original, there are two chars.\n",
    "def double_char(str):\n",
    "    new_str = \"\"\n",
    "    for char in str:\n",
    "        new_str += char*2\n",
    "        return new_str\n",
    "double_char('The')\n"
   ]
  },
  {
   "cell_type": "code",
   "execution_count": null,
   "metadata": {},
   "outputs": [],
   "source": [
    "def letter_repeater(n,string):\n",
    "    word = ''\n",
    "    for char in list(string):\n",
    "        word += char*n \n",
    "    print (word)\n",
    "\n",
    "letter_repeater(2,'monkeys')\n"
   ]
  },
  {
   "cell_type": "code",
   "execution_count": null,
   "metadata": {},
   "outputs": [],
   "source": [
    "result = []\n",
    "s='sunyoung'\n",
    "for x in s:\n",
    "    result.append(x*3)\n",
    "print(result)\n",
    "\n"
   ]
  },
  {
   "cell_type": "code",
   "execution_count": 23,
   "metadata": {},
   "outputs": [
    {
     "data": {
      "text/plain": [
       "2"
      ]
     },
     "execution_count": 23,
     "metadata": {},
     "output_type": "execute_result"
    }
   ],
   "source": [
    "#Return the number of times that the string \"hi\" appears anywhere in the given string.\n",
    "\n",
    "def count_hi(str):\n",
    "    return str.count(\"hi\")\n",
    "count_hi('abc hi hi ho')\n"
   ]
  },
  {
   "cell_type": "code",
   "execution_count": 29,
   "metadata": {},
   "outputs": [
    {
     "data": {
      "text/plain": [
       "True"
      ]
     },
     "execution_count": 29,
     "metadata": {},
     "output_type": "execute_result"
    }
   ],
   "source": [
    "#Return True if the string \"cat\" and \"dog\" appear the same number of times in the given string.\n",
    "\n",
    "def cat_dog(str):\n",
    "    if str.count('cat') == str.count('dog'):\n",
    "        return True\n",
    "cat_dog('catdog')"
   ]
  },
  {
   "cell_type": "code",
   "execution_count": 32,
   "metadata": {},
   "outputs": [
    {
     "data": {
      "text/plain": [
       "1"
      ]
     },
     "execution_count": 32,
     "metadata": {},
     "output_type": "execute_result"
    }
   ],
   "source": [
    "#Return the number of times that the string \"code\" appears anywhere in the given string, except we'll accept any letter for the 'd', so \"cope\" and \"cooe\" count.\n",
    "\n",
    "def count_code(str):\n",
    "    count_code = str.count('code')\n",
    "    count_d = 0\n",
    "    for i in range(0,len(str)-2):\n",
    "        if str[i:i+2] == 'co' and str [i+2] != 'd' and str[i+3] == 'e':\n",
    "            count_d += 1\n",
    "    return count_code + count_d\n",
    "\n",
    "count_code('aaacodebbb')\n"
   ]
  },
  {
   "cell_type": "code",
   "execution_count": 7,
   "metadata": {},
   "outputs": [
    {
     "data": {
      "text/plain": [
       "True"
      ]
     },
     "execution_count": 7,
     "metadata": {},
     "output_type": "execute_result"
    }
   ],
   "source": [
    "# Given two strings, return True if either of the strings appears at the very end of the other string, ignoring upper/lower case differences (in other words, the computation should not be \"case sensitive\"). Note: s.lower() returns the lowercase version of a string.\n",
    "\n",
    "def end_other(a, b):\n",
    "\n",
    "    a = a.lower()\n",
    "    b = b.lower()\n",
    " \n",
    "    if a.endswith(b) or b.endswith(a):\n",
    "        return True\n",
    "    \n",
    "end_other('Hiabc', 'abc')"
   ]
  },
  {
   "cell_type": "code",
   "execution_count": 1,
   "metadata": {},
   "outputs": [
    {
     "data": {
      "text/plain": [
       "True"
      ]
     },
     "execution_count": 1,
     "metadata": {},
     "output_type": "execute_result"
    }
   ],
   "source": [
    "#Return True if the given string contains an appearance of \"xyz\" where the xyz is not directly preceeded by a period (.). So \"xxyz\" counts but \"x.xyz\" does not.\n",
    "\n",
    "\n",
    "def xyz_there(str):\n",
    "  \n",
    "  if \"xyz\" in str:\n",
    "    return True\n",
    "    \n",
    "xyz_there('abcxyz')\n",
    "\n"
   ]
  }
 ],
 "metadata": {
  "kernelspec": {
   "display_name": "Python 3",
   "language": "python",
   "name": "python3"
  },
  "language_info": {
   "codemirror_mode": {
    "name": "ipython",
    "version": 3
   },
   "file_extension": ".py",
   "mimetype": "text/x-python",
   "name": "python",
   "nbconvert_exporter": "python",
   "pygments_lexer": "ipython3",
   "version": "3.7.3"
  }
 },
 "nbformat": 4,
 "nbformat_minor": 2
}

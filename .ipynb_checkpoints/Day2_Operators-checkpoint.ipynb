{
 "cells": [
  {
   "cell_type": "code",
   "execution_count": null,
   "metadata": {},
   "outputs": [],
   "source": [
    "def solve(meal_cost, tip_percent, tax_percent):\n",
    "    meal_cost = float(input())\n",
    "    tip_percent = int(input())\n",
    "    tax_percent = int(input())\n",
    "\n",
    "    tip= meal_cost*tax_percent/100\n",
    "    tax=meal_cost*tax_percent/100\n",
    "   \n",
    "    total = meal_cost +tip+tax\n",
    "    return (str(round(total)))\n",
    "solve(meal_cost, tip_percent, tax_percent)"
   ]
  }
 ],
 "metadata": {
  "kernelspec": {
   "display_name": "Python 3",
   "language": "python",
   "name": "python3"
  },
  "language_info": {
   "codemirror_mode": {
    "name": "ipython",
    "version": 3
   },
   "file_extension": ".py",
   "mimetype": "text/x-python",
   "name": "python",
   "nbconvert_exporter": "python",
   "pygments_lexer": "ipython3",
   "version": "3.7.4"
  }
 },
 "nbformat": 4,
 "nbformat_minor": 2
}

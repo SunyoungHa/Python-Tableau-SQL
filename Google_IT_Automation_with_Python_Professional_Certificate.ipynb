{
  "nbformat": 4,
  "nbformat_minor": 0,
  "metadata": {
    "colab": {
      "name": "Google IT Automation with Python Professional Certificate.ipynb",
      "provenance": [],
      "authorship_tag": "ABX9TyNH1Fw7+JMOQWDSnZbuKt1D",
      "include_colab_link": true
    },
    "kernelspec": {
      "name": "python3",
      "display_name": "Python 3"
    }
  },
  "cells": [
    {
      "cell_type": "markdown",
      "metadata": {
        "id": "view-in-github",
        "colab_type": "text"
      },
      "source": [
        "<a href=\"https://colab.research.google.com/github/SunyoungHa/Python-Tableau-SQL-HTML/blob/Python-Tableau-SQL-HTML/Google_IT_Automation_with_Python_Professional_Certificate.ipynb\" target=\"_parent\"><img src=\"https://colab.research.google.com/assets/colab-badge.svg\" alt=\"Open In Colab\"/></a>"
      ]
    },
    {
      "cell_type": "code",
      "metadata": {
        "id": "9X_2_MtG3J-V",
        "colab_type": "code",
        "outputId": "50788c1c-8430-4cda-ff44-ba7bfcc0fd00",
        "colab": {
          "base_uri": "https://localhost:8080/",
          "height": 34
        }
      },
      "source": [
        "# source : Google IT Automation with Python Professional Certificate, Coursera"
      ],
      "execution_count": 0,
      "outputs": [
        {
          "output_type": "stream",
          "text": [
            "False\n"
          ],
          "name": "stdout"
        }
      ]
    },
    {
      "cell_type": "code",
      "metadata": {
        "id": "0H3QOt1B4X4I",
        "colab_type": "code",
        "colab": {
          "base_uri": "https://localhost:8080/",
          "height": 34
        },
        "outputId": "e0732902-45d6-40dd-c1ed-07e316db3b44"
      },
      "source": [
        "def palindrom(words):\n",
        "  original_word =''\n",
        "  reversed_word = ''\n",
        "  if original_word == words.replace(' ','').lower():\n",
        "    reversed_word = original_word[::-1]\n",
        "  for word in original_word:\n",
        "    if original_word == reversed_word:\n",
        "      return True\n",
        "  return False\n",
        "\n",
        "print (palindrom('anna'))"
      ],
      "execution_count": 1,
      "outputs": [
        {
          "output_type": "stream",
          "text": [
            "False\n"
          ],
          "name": "stdout"
        }
      ]
    },
    {
      "cell_type": "code",
      "metadata": {
        "id": "uoy_iJZ-5nT5",
        "colab_type": "code",
        "outputId": "22ac8257-42a6-4550-f5f1-a6d0ada438cd",
        "colab": {
          "base_uri": "https://localhost:8080/",
          "height": 68
        }
      },
      "source": [
        "def group_list(group, users):\n",
        "  members = \",\".join(users)\n",
        "  return \"{}:{}\".format (group, members)\n",
        "\n",
        "print(group_list(\"Marketing\", [\"Mike\", \"Karen\", \"Jake\", \"Tasha\"])) # Should be \"Marketing: Mike, Karen, Jake, Tasha\"\n",
        "print(group_list(\"Engineering\", [\"Kim\", \"Jay\", \"Tom\"])) # Should be \"Engineering: Kim, Jay, Tom\"\n",
        "print(group_list(\"Users\", \"\")) # Should be \"Users:\"\n",
        "  "
      ],
      "execution_count": 0,
      "outputs": [
        {
          "output_type": "stream",
          "text": [
            "Marketing:Mike,Karen,Jake,Tasha\n",
            "Engineering:Kim,Jay,Tom\n",
            "Users:\n"
          ],
          "name": "stdout"
        }
      ]
    },
    {
      "cell_type": "code",
      "metadata": {
        "id": "hCOLdb-o_q7I",
        "colab_type": "code",
        "outputId": "1317d51b-8a6d-4dfd-ddc8-44abd49ca767",
        "colab": {
          "base_uri": "https://localhost:8080/",
          "height": 51
        }
      },
      "source": [
        "def skip_elements(elements):\n",
        "  element = []\n",
        "  for index, item in enumerate(elements):\n",
        "    if index %2 == 0:\n",
        "      element.append(item)\n",
        "  return element\n",
        "\n",
        "\n",
        "  \n",
        "print(skip_elements([\"a\", \"b\", \"c\", \"d\", \"e\", \"f\", \"g\"])) # Should be ['a', 'c', 'e', 'g']\n",
        "print(skip_elements(['Orange', 'Pineapple', 'Strawberry', 'Kiwi', 'Peach'])) # Should be ['Orange', 'Strawberry', 'Peach']"
      ],
      "execution_count": 0,
      "outputs": [
        {
          "output_type": "stream",
          "text": [
            "['a', 'c', 'e', 'g']\n",
            "['Orange', 'Strawberry', 'Peach']\n"
          ],
          "name": "stdout"
        }
      ]
    },
    {
      "cell_type": "code",
      "metadata": {
        "id": "Ildgboy-NBHf",
        "colab_type": "code",
        "outputId": "526ad87d-8a19-4954-df55-11e3d8610b1c",
        "colab": {
          "base_uri": "https://localhost:8080/",
          "height": 34
        }
      },
      "source": [
        "def newmail(contact):\n",
        "  result =[]\n",
        "  for name, email in contact:\n",
        "    result.append('{},<{}>'.format(name, email))\n",
        "  return result\n",
        "\n",
        "print(newmail([('asd','asd@example.com'),('ddffd','ddffd@example.com')]))\n"
      ],
      "execution_count": 0,
      "outputs": [
        {
          "output_type": "stream",
          "text": [
            "['asd,<asd@example.com>', 'ddffd,<ddffd@example.com>']\n"
          ],
          "name": "stdout"
        }
      ]
    },
    {
      "cell_type": "code",
      "metadata": {
        "id": "XVJ4a4wKNtxD",
        "colab_type": "code",
        "outputId": "a3bbd505-f4cd-4171-f4cf-fc13d38c7d93",
        "colab": {
          "base_uri": "https://localhost:8080/",
          "height": 34
        }
      },
      "source": [
        "filenames = [\"program.c\", \"stdio.hpp\", \"sample.hpp\", \"a.out\", \"math.hpp\", \"hpp.out\"]\n",
        "newfilenames = []\n",
        "for old in filenames:\n",
        "  if \".hpp\" in old:\n",
        "    new = old.replace(\".hpp\",\".h\")\n",
        "    newfilenames.append(tuple([old]+[new]))\n",
        "  else:\n",
        "    newfilenames.append(tuple([old]+[old]))\n",
        "print (newfilenames)\n",
        "\n",
        "\n"
      ],
      "execution_count": 0,
      "outputs": [
        {
          "output_type": "stream",
          "text": [
            "[('program.c', 'program.c'), ('stdio.hpp', 'stdio.h'), ('sample.hpp', 'sample.h'), ('a.out', 'a.out'), ('math.hpp', 'math.h'), ('hpp.out', 'hpp.out')]\n"
          ],
          "name": "stdout"
        }
      ]
    },
    {
      "cell_type": "code",
      "metadata": {
        "id": "zg1bna4cPoxL",
        "colab_type": "code",
        "outputId": "0b2bc254-356a-49d1-89a0-7543775ba7ab",
        "colab": {
          "base_uri": "https://localhost:8080/",
          "height": 51
        }
      },
      "source": [
        "Dictionary1 = { 'A': 'Geeks', 'B': 4, 'C': 'Geeks' } \n",
        "  \n",
        "print(Dictionary1) \n",
        "  \n",
        "# Printing all the items of the Dictionary \n",
        "print(Dictionary1.items()) \n",
        "\n"
      ],
      "execution_count": 0,
      "outputs": [
        {
          "output_type": "stream",
          "text": [
            "{'A': 'Geeks', 'B': 4, 'C': 'Geeks'}\n",
            "dict_items([('A', 'Geeks'), ('B', 4), ('C', 'Geeks')])\n"
          ],
          "name": "stdout"
        }
      ]
    },
    {
      "cell_type": "code",
      "metadata": {
        "id": "IfYSwP6lUiHZ",
        "colab_type": "code",
        "outputId": "0a48a4dd-1cec-4e9f-e615-11377fa5f139",
        "colab": {
          "base_uri": "https://localhost:8080/",
          "height": 51
        }
      },
      "source": [
        "def pig_latin(text):\n",
        "  say = ''\n",
        "  words = text.split()\n",
        "  for w in words:\n",
        "    words = w[1:]+w[0]+'ay'\n",
        "    say = ''.join(words)\n",
        "  return say\n",
        "\n",
        "    \n",
        "print(pig_latin(\"hello how are you\")) # Should be \"ellohay owhay reaay ouyay\"\n",
        "print(pig_latin(\"programming in python is fun\")) # Should be \"rogrammingpay niay ythonpay siay unfay\""
      ],
      "execution_count": 0,
      "outputs": [
        {
          "output_type": "stream",
          "text": [
            "ouyay\n",
            "unfay\n"
          ],
          "name": "stdout"
        }
      ]
    },
    {
      "cell_type": "code",
      "metadata": {
        "id": "1S7Yk82zViyk",
        "colab_type": "code",
        "outputId": "bed2fab6-1875-4f70-f00f-ad00fde8fa75",
        "colab": {
          "base_uri": "https://localhost:8080/",
          "height": 51
        }
      },
      "source": [
        "def pig_latin(text):\n",
        "  say = \"\"\n",
        "  # Separate the text into words\n",
        "  words = text.split()\n",
        "  for word in words:\n",
        "    # Create the pig latin word and add it to the list\n",
        "    texts = word[1:] + word[0] + \"ay\" + \" \"\n",
        "    say = \"\".join(texts)\n",
        "    # Turn the list back into a phrase\n",
        "  return say\n",
        "\t\t\n",
        "print(pig_latin(\"hello how are you\")) # Should be \"ellohay owhay reaay ouyay\"\n",
        "print(pig_latin(\"programming in python is fun\")) # Should be \"rogrammingpay niay ythonpay siay unfay\""
      ],
      "execution_count": 0,
      "outputs": [
        {
          "output_type": "stream",
          "text": [
            "ouyay \n",
            "unfay \n"
          ],
          "name": "stdout"
        }
      ]
    },
    {
      "cell_type": "code",
      "metadata": {
        "id": "GnPS2PE7c0Fh",
        "colab_type": "code",
        "outputId": "6b29a8ab-679d-4ea2-d117-7ba1a56c5409",
        "colab": {
          "base_uri": "https://localhost:8080/",
          "height": 34
        }
      },
      "source": [
        "def email_list(domains):\n",
        "  emails = [] \n",
        "  for name,users in domains.items():\n",
        "    for user in users:\n",
        "      emails.append('{}@{}'.format(user,name))\n",
        "  return(emails)\n",
        "\n",
        "print(email_list({\"gmail.com\": [\"clark.kent\", \"diana.prince\", \"peter.parker\"], \"yahoo.com\": [\"barbara.gordon\", \"jean.grey\"], \"hotmail.com\": [\"bruce.wayne\"]}))"
      ],
      "execution_count": 0,
      "outputs": [
        {
          "output_type": "stream",
          "text": [
            "['clark.kent@gmail.com', 'diana.prince@gmail.com', 'peter.parker@gmail.com', 'barbara.gordon@yahoo.com', 'jean.grey@yahoo.com', 'bruce.wayne@hotmail.com']\n"
          ],
          "name": "stdout"
        }
      ]
    },
    {
      "cell_type": "code",
      "metadata": {
        "id": "hywfcJRZraCK",
        "colab_type": "code",
        "outputId": "16cb7995-fc06-4cea-e05e-0e8759d744d2",
        "colab": {
          "base_uri": "https://localhost:8080/",
          "height": 130
        }
      },
      "source": [
        "class Elevator(object):\n",
        "    def __init__(self, bottom, top, current):\n",
        "        \"\"\"Initializes the Elevator instance.\"\"\"\n",
        "        self.bottom=bottom\n",
        "        self.top=top\n",
        "        self.current=current\n",
        "\n",
        "        \n",
        "    def up(self):\n",
        "        if self.top < current:\n",
        "            print(\"Makes the elevator go up one floor.\"+self.top)\n",
        "            \n",
        "    def down(self):\n",
        "        if self.bottom < current:\n",
        "            print(\"Makes the elevator go down one floor.\")\n",
        "\n",
        "if __name__ == '__main__'\n",
        "main()\n",
        "elevator = Elevator(str(-1, 10, 0))\n",
        "print(elevator)"
      ],
      "execution_count": 0,
      "outputs": [
        {
          "output_type": "error",
          "ename": "SyntaxError",
          "evalue": "ignored",
          "traceback": [
            "\u001b[0;36m  File \u001b[0;32m\"<ipython-input-75-afa0fd1b7956>\"\u001b[0;36m, line \u001b[0;32m17\u001b[0m\n\u001b[0;31m    if __name__ == '__main__'\u001b[0m\n\u001b[0m                             ^\u001b[0m\n\u001b[0;31mSyntaxError\u001b[0m\u001b[0;31m:\u001b[0m invalid syntax\n"
          ]
        }
      ]
    },
    {
      "cell_type": "code",
      "metadata": {
        "id": "iKgY_y0M-Qyh",
        "colab_type": "code",
        "outputId": "b2059418-b73b-48ec-cbd5-3ef03448b4ee",
        "colab": {
          "base_uri": "https://localhost:8080/",
          "height": 102
        }
      },
      "source": [
        "def print_prime_factors(number):\n",
        "  # Start with two, which is the first prime\n",
        "  factor = 2\n",
        "  # Keep going until the factor is larger than the number\n",
        "  while factor <= number:\n",
        "    # Check if factor is a divisor of number\n",
        "    if number % factor == 0:\n",
        "      # If it is, print it and divide the original number\n",
        "      print(factor)\n",
        "      number = number / factor\n",
        "    else:\n",
        "      # If it's not, increment the factor by one\n",
        "      factor += 1\n",
        "  return \"Done\"\n",
        "\n",
        "print_prime_factors(100)\n",
        "# Should print 2,2,5,5"
      ],
      "execution_count": 0,
      "outputs": [
        {
          "output_type": "stream",
          "text": [
            "2\n",
            "2\n",
            "5\n",
            "5\n"
          ],
          "name": "stdout"
        },
        {
          "output_type": "execute_result",
          "data": {
            "text/plain": [
              "'Done'"
            ]
          },
          "metadata": {
            "tags": []
          },
          "execution_count": 1
        }
      ]
    },
    {
      "cell_type": "code",
      "metadata": {
        "id": "c1WQeFoshP3i",
        "colab_type": "code",
        "outputId": "26ff8139-235a-4278-8c2a-f32ac63551af",
        "colab": {
          "base_uri": "https://localhost:8080/",
          "height": 51
        }
      },
      "source": [
        "def sum_positive_numbers(n):\n",
        "  if n<1:\n",
        "    return False\n",
        "  \n",
        "  return n+sum_positive_numbers(n-1)\n",
        "\n",
        "\n",
        "\n",
        "print(sum_positive_numbers(-1)) # Should be 6\n",
        "print(sum_positive_numbers(5)) # Should be 15\n"
      ],
      "execution_count": 0,
      "outputs": [
        {
          "output_type": "stream",
          "text": [
            "False\n",
            "15\n"
          ],
          "name": "stdout"
        }
      ]
    },
    {
      "cell_type": "code",
      "metadata": {
        "id": "-aQFSsCC0C8h",
        "colab_type": "code",
        "outputId": "133803f4-3c9b-4f24-9044-b7a48231db52",
        "colab": {
          "base_uri": "https://localhost:8080/",
          "height": 34
        }
      },
      "source": [
        "The count_users function recursively counts the amount of users that belong to a group in the company system, by going through each of the members of a group and if one of them is a group, recursively calling the function and counting the members. But it has a bug! Can you spot the problem and fix it?"
      ],
      "execution_count": 0,
      "outputs": [
        {
          "output_type": "stream",
          "text": [
            "Object `it` not found.\n"
          ],
          "name": "stdout"
        }
      ]
    },
    {
      "cell_type": "code",
      "metadata": {
        "id": "Fou0hvcT1AVx",
        "colab_type": "code",
        "outputId": "bd2b2743-1243-48fc-a853-54888412f4bf",
        "colab": {
          "base_uri": "https://localhost:8080/",
          "height": 34
        }
      },
      "source": [
        "str1 = 'count consonants'\n",
        "\n",
        "def consonants(str1):\n",
        "  count = 0\n",
        "  vowel = 'aeiou'\n",
        "  for i in range(len(str1)):\n",
        "    if str1[i] not in vowel and str1[i].isalpha():\n",
        "      count += 1\n",
        "  return count\n",
        "cosonate(str1)\n",
        "\n",
        "    \n"
      ],
      "execution_count": 0,
      "outputs": [
        {
          "output_type": "execute_result",
          "data": {
            "text/plain": [
              "10"
            ]
          },
          "metadata": {
            "tags": []
          },
          "execution_count": 22
        }
      ]
    },
    {
      "cell_type": "code",
      "metadata": {
        "id": "EWIrbkHJ8ZUV",
        "colab_type": "code",
        "outputId": "18194677-edc6-4d24-a6a3-038302700326",
        "colab": {
          "base_uri": "https://localhost:8080/",
          "height": 409
        }
      },
      "source": [
        "def is_power_of(number, base):\n",
        "  if number != 0 and number == base ** 0:\n",
        "    return True\n",
        "  return is_power_of(number, base)\n",
        "\n",
        "print(is_power_of(8,2)) # Should be True\n",
        "print(is_power_of(64,4)) # Should be True\n",
        "print(is_power_of(70,10)) # Should be False"
      ],
      "execution_count": 0,
      "outputs": [
        {
          "output_type": "error",
          "ename": "RecursionError",
          "evalue": "ignored",
          "traceback": [
            "\u001b[0;31m---------------------------------------------------------------------------\u001b[0m",
            "\u001b[0;31mRecursionError\u001b[0m                            Traceback (most recent call last)",
            "\u001b[0;32m<ipython-input-1-611277644877>\u001b[0m in \u001b[0;36m<module>\u001b[0;34m()\u001b[0m\n\u001b[1;32m      4\u001b[0m   \u001b[0;32mreturn\u001b[0m \u001b[0mis_power_of\u001b[0m\u001b[0;34m(\u001b[0m\u001b[0mnumber\u001b[0m\u001b[0;34m,\u001b[0m \u001b[0mbase\u001b[0m\u001b[0;34m)\u001b[0m\u001b[0;34m\u001b[0m\u001b[0;34m\u001b[0m\u001b[0m\n\u001b[1;32m      5\u001b[0m \u001b[0;34m\u001b[0m\u001b[0m\n\u001b[0;32m----> 6\u001b[0;31m \u001b[0mprint\u001b[0m\u001b[0;34m(\u001b[0m\u001b[0mis_power_of\u001b[0m\u001b[0;34m(\u001b[0m\u001b[0;36m8\u001b[0m\u001b[0;34m,\u001b[0m\u001b[0;36m2\u001b[0m\u001b[0;34m)\u001b[0m\u001b[0;34m)\u001b[0m \u001b[0;31m# Should be True\u001b[0m\u001b[0;34m\u001b[0m\u001b[0;34m\u001b[0m\u001b[0m\n\u001b[0m\u001b[1;32m      7\u001b[0m \u001b[0mprint\u001b[0m\u001b[0;34m(\u001b[0m\u001b[0mis_power_of\u001b[0m\u001b[0;34m(\u001b[0m\u001b[0;36m64\u001b[0m\u001b[0;34m,\u001b[0m\u001b[0;36m4\u001b[0m\u001b[0;34m)\u001b[0m\u001b[0;34m)\u001b[0m \u001b[0;31m# Should be True\u001b[0m\u001b[0;34m\u001b[0m\u001b[0;34m\u001b[0m\u001b[0m\n\u001b[1;32m      8\u001b[0m \u001b[0mprint\u001b[0m\u001b[0;34m(\u001b[0m\u001b[0mis_power_of\u001b[0m\u001b[0;34m(\u001b[0m\u001b[0;36m70\u001b[0m\u001b[0;34m,\u001b[0m\u001b[0;36m10\u001b[0m\u001b[0;34m)\u001b[0m\u001b[0;34m)\u001b[0m \u001b[0;31m# Should be False\u001b[0m\u001b[0;34m\u001b[0m\u001b[0;34m\u001b[0m\u001b[0m\n",
            "\u001b[0;32m<ipython-input-1-611277644877>\u001b[0m in \u001b[0;36mis_power_of\u001b[0;34m(number, base)\u001b[0m\n\u001b[1;32m      2\u001b[0m   \u001b[0;32mif\u001b[0m \u001b[0mnumber\u001b[0m \u001b[0;34m!=\u001b[0m \u001b[0;36m0\u001b[0m \u001b[0;32mand\u001b[0m \u001b[0mnumber\u001b[0m \u001b[0;34m==\u001b[0m \u001b[0mbase\u001b[0m \u001b[0;34m**\u001b[0m \u001b[0;36m0\u001b[0m\u001b[0;34m:\u001b[0m\u001b[0;34m\u001b[0m\u001b[0;34m\u001b[0m\u001b[0m\n\u001b[1;32m      3\u001b[0m     \u001b[0;32mreturn\u001b[0m \u001b[0;32mTrue\u001b[0m\u001b[0;34m\u001b[0m\u001b[0;34m\u001b[0m\u001b[0m\n\u001b[0;32m----> 4\u001b[0;31m   \u001b[0;32mreturn\u001b[0m \u001b[0mis_power_of\u001b[0m\u001b[0;34m(\u001b[0m\u001b[0mnumber\u001b[0m\u001b[0;34m,\u001b[0m \u001b[0mbase\u001b[0m\u001b[0;34m)\u001b[0m\u001b[0;34m\u001b[0m\u001b[0;34m\u001b[0m\u001b[0m\n\u001b[0m\u001b[1;32m      5\u001b[0m \u001b[0;34m\u001b[0m\u001b[0m\n\u001b[1;32m      6\u001b[0m \u001b[0mprint\u001b[0m\u001b[0;34m(\u001b[0m\u001b[0mis_power_of\u001b[0m\u001b[0;34m(\u001b[0m\u001b[0;36m8\u001b[0m\u001b[0;34m,\u001b[0m\u001b[0;36m2\u001b[0m\u001b[0;34m)\u001b[0m\u001b[0;34m)\u001b[0m \u001b[0;31m# Should be True\u001b[0m\u001b[0;34m\u001b[0m\u001b[0;34m\u001b[0m\u001b[0m\n",
            "... last 1 frames repeated, from the frame below ...\n",
            "\u001b[0;32m<ipython-input-1-611277644877>\u001b[0m in \u001b[0;36mis_power_of\u001b[0;34m(number, base)\u001b[0m\n\u001b[1;32m      2\u001b[0m   \u001b[0;32mif\u001b[0m \u001b[0mnumber\u001b[0m \u001b[0;34m!=\u001b[0m \u001b[0;36m0\u001b[0m \u001b[0;32mand\u001b[0m \u001b[0mnumber\u001b[0m \u001b[0;34m==\u001b[0m \u001b[0mbase\u001b[0m \u001b[0;34m**\u001b[0m \u001b[0;36m0\u001b[0m\u001b[0;34m:\u001b[0m\u001b[0;34m\u001b[0m\u001b[0;34m\u001b[0m\u001b[0m\n\u001b[1;32m      3\u001b[0m     \u001b[0;32mreturn\u001b[0m \u001b[0;32mTrue\u001b[0m\u001b[0;34m\u001b[0m\u001b[0;34m\u001b[0m\u001b[0m\n\u001b[0;32m----> 4\u001b[0;31m   \u001b[0;32mreturn\u001b[0m \u001b[0mis_power_of\u001b[0m\u001b[0;34m(\u001b[0m\u001b[0mnumber\u001b[0m\u001b[0;34m,\u001b[0m \u001b[0mbase\u001b[0m\u001b[0;34m)\u001b[0m\u001b[0;34m\u001b[0m\u001b[0;34m\u001b[0m\u001b[0m\n\u001b[0m\u001b[1;32m      5\u001b[0m \u001b[0;34m\u001b[0m\u001b[0m\n\u001b[1;32m      6\u001b[0m \u001b[0mprint\u001b[0m\u001b[0;34m(\u001b[0m\u001b[0mis_power_of\u001b[0m\u001b[0;34m(\u001b[0m\u001b[0;36m8\u001b[0m\u001b[0;34m,\u001b[0m\u001b[0;36m2\u001b[0m\u001b[0;34m)\u001b[0m\u001b[0;34m)\u001b[0m \u001b[0;31m# Should be True\u001b[0m\u001b[0;34m\u001b[0m\u001b[0;34m\u001b[0m\u001b[0m\n",
            "\u001b[0;31mRecursionError\u001b[0m: maximum recursion depth exceeded in comparison"
          ]
        }
      ]
    },
    {
      "cell_type": "code",
      "metadata": {
        "id": "D_73HNeNUW1L",
        "colab_type": "code",
        "outputId": "ddc9a099-e9e7-4eb4-c744-3f42dddb86ca",
        "colab": {
          "base_uri": "https://localhost:8080/",
          "height": 34
        }
      },
      "source": [
        "def format_address(address):\n",
        "  split = address.split()\n",
        "  number = split[0] \n",
        "  street = ' '.join(split[1:])\n",
        "  for info in split:\n",
        "    return ('{} on {}'.format(number,street))\n",
        "\n",
        "format_address('123 main rd')\n"
      ],
      "execution_count": 0,
      "outputs": [
        {
          "output_type": "execute_result",
          "data": {
            "text/plain": [
              "'123 on main rd'"
            ]
          },
          "metadata": {
            "tags": []
          },
          "execution_count": 21
        }
      ]
    },
    {
      "cell_type": "code",
      "metadata": {
        "id": "heSBLKelYRsp",
        "colab_type": "code",
        "outputId": "a222611e-c90c-44af-cafe-e1fffa93b945",
        "colab": {
          "base_uri": "https://localhost:8080/",
          "height": 34
        }
      },
      "source": [
        "def highlight_word(sentence, word):\n",
        "  return(sentence.replace(word,word.upper()))\n",
        "print(highlight_word(\"Have a nice day\", \"nice\"))"
      ],
      "execution_count": 0,
      "outputs": [
        {
          "output_type": "stream",
          "text": [
            "Have a NICE day\n"
          ],
          "name": "stdout"
        }
      ]
    },
    {
      "cell_type": "code",
      "metadata": {
        "id": "CbmyDcrdWIB4",
        "colab_type": "code",
        "outputId": "99732e5c-03e1-43cb-b2fe-a327ef952d0d",
        "colab": {
          "base_uri": "https://localhost:8080/",
          "height": 34
        }
      },
      "source": [
        "a=[1,2]\n",
        "a.append(3)\n",
        "a"
      ],
      "execution_count": 0,
      "outputs": [
        {
          "output_type": "execute_result",
          "data": {
            "text/plain": [
              "[1, 2, 3]"
            ]
          },
          "metadata": {
            "tags": []
          },
          "execution_count": 43
        }
      ]
    },
    {
      "cell_type": "code",
      "metadata": {
        "id": "kR5slfjmcjeK",
        "colab_type": "code",
        "colab": {}
      },
      "source": [
        "\n",
        "Jamies_list = [\"Alice\", \"Cindy\", \"Bobby\", \"Jan\", \"Peter\"]\n",
        "Drews_list = [\"Mike\", \"Carol\", \"Greg\", \"Marcia\"]\n",
        "def combine_lists(list1, list2):\n",
        "\n",
        "  a= list1.reverse()\n",
        "  print(a)"
      ],
      "execution_count": 0,
      "outputs": []
    },
    {
      "cell_type": "code",
      "metadata": {
        "id": "RqMw8gbfdIzE",
        "colab_type": "code",
        "outputId": "922f010a-eb5d-41dc-c2f5-abec11872960",
        "colab": {
          "base_uri": "https://localhost:8080/",
          "height": 34
        }
      },
      "source": [
        "def car_dict(price):\n",
        "  result = \"\"\n",
        "  for car, price in price.items():\n",
        "    result += '{} of price is {}'.format(car, price)\n",
        "    return result\n",
        "\n",
        "print(car_dict({\"Kia Soul\":19000, \"Lamborghini Diablo\":55000, \"Ford Fiesta\":13000, \"Toyota Prius\":24000}))"
      ],
      "execution_count": 0,
      "outputs": [
        {
          "output_type": "stream",
          "text": [
            "Kia Soul of price is 19000\n"
          ],
          "name": "stdout"
        }
      ]
    },
    {
      "cell_type": "code",
      "metadata": {
        "id": "V6fflWSweIim",
        "colab_type": "code",
        "colab": {}
      },
      "source": [
        "def car_listing(car_prices):\n",
        "  result = \"\"\n",
        "  for car, price in car_prices.items():\n",
        "    result += \"{} costs {} dollars\".format(car, price) + \"\\n\"\n",
        "  return result\n",
        "\n",
        "\n",
        "  "
      ],
      "execution_count": 0,
      "outputs": []
    },
    {
      "cell_type": "code",
      "metadata": {
        "id": "HSQF7GSdgLI6",
        "colab_type": "code",
        "outputId": "6492fb88-e7fe-4f69-da5f-955bada6fd8a",
        "colab": {
          "base_uri": "https://localhost:8080/",
          "height": 34
        }
      },
      "source": [
        "def squares(start,end):\n",
        "  squares = []\n",
        "  for num in range(start,end+1):\n",
        "    squares.append(num**2)\n",
        "  return (squares)    \n",
        "  \n",
        "squares(0,4)"
      ],
      "execution_count": 0,
      "outputs": [
        {
          "output_type": "stream",
          "text": [
            "[0, 1, 4, 9, 16]\n"
          ],
          "name": "stdout"
        }
      ]
    },
    {
      "cell_type": "code",
      "metadata": {
        "id": "lDdYTpF0k5zl",
        "colab_type": "code",
        "outputId": "0c6ed76f-ee8a-4470-b046-4d4c181b9b09",
        "colab": {
          "base_uri": "https://localhost:8080/",
          "height": 34
        }
      },
      "source": [
        "colors = [\"red\", \"white\", \"blue\"]\n",
        "colors.insert(2, \"yellow\")\n",
        "print (colors)"
      ],
      "execution_count": 0,
      "outputs": [
        {
          "output_type": "stream",
          "text": [
            "['red', 'white', 'yellow', 'blue']\n"
          ],
          "name": "stdout"
        }
      ]
    },
    {
      "cell_type": "code",
      "metadata": {
        "id": "3np8kZnrrJM9",
        "colab_type": "code",
        "outputId": "b4d7c5a5-ed40-4178-9472-2dc8be46e0ec",
        "colab": {
          "base_uri": "https://localhost:8080/",
          "height": 68
        }
      },
      "source": [
        "animal = \"Hippopotamus\"\n",
        "print(animal[3:6])\n",
        "print(animal[-5])\n",
        "print(animal[10:])"
      ],
      "execution_count": 0,
      "outputs": [
        {
          "output_type": "stream",
          "text": [
            "pop\n",
            "t\n",
            "us\n"
          ],
          "name": "stdout"
        }
      ]
    },
    {
      "cell_type": "code",
      "metadata": {
        "id": "VQ4sLKzbr2fG",
        "colab_type": "code",
        "outputId": "52aa75d4-1fa2-46f4-d702-e0a16560ce0e",
        "colab": {
          "base_uri": "https://localhost:8080/",
          "height": 34
        }
      },
      "source": [
        "def count_letters(text):\n",
        "  text= text.rstrip()\n",
        "  w=text.split()\n",
        "  result = {}\n",
        "  \n",
        "  # Go through each letter in the text\n",
        "  for w in text:\n",
        "    if w in result:\n",
        "      result[w] = result[w]+1\n",
        "    else:\n",
        "      result[w]  = 1\n",
        "  return (w,result[w])\n",
        "print(count_letters(\"AaBbCc\")) "
      ],
      "execution_count": 0,
      "outputs": [
        {
          "output_type": "stream",
          "text": [
            "('c', 1)\n"
          ],
          "name": "stdout"
        }
      ]
    },
    {
      "cell_type": "code",
      "metadata": {
        "id": "vNzoIHjQsyUQ",
        "colab_type": "code",
        "outputId": "ece520b4-6725-4321-ac5d-2d54c25e9b87",
        "colab": {
          "base_uri": "https://localhost:8080/",
          "height": 34
        }
      },
      "source": [
        "def count_letters(text):\n",
        "  result = {}\n",
        "  for letter in text.lower():\n",
        "    if letter.isalpha():\n",
        "      if letter not in result:\n",
        "        result[letter] = 0\n",
        "      result[letter] += 1\n",
        "      \n",
        "  return (result)\n",
        "    \n",
        " \n",
        "    # Add or increment the value in the dictionary\n",
        "  \n",
        "\n",
        "print(count_letters(\"AaBbCc\"))"
      ],
      "execution_count": 0,
      "outputs": [
        {
          "output_type": "stream",
          "text": [
            "{'a': 2, 'b': 2, 'c': 2}\n"
          ],
          "name": "stdout"
        }
      ]
    },
    {
      "cell_type": "code",
      "metadata": {
        "id": "-YhcMjvK_MYW",
        "colab_type": "code",
        "outputId": "589ee7e6-1735-473c-abfa-f5286c1f1744",
        "colab": {
          "base_uri": "https://localhost:8080/",
          "height": 68
        }
      },
      "source": [
        "def votes(params):\n",
        "\tfor vote in params:\n",
        "\t    print(\"Possible option:\" + vote)\n",
        "votes(['yes','no','maybe'])"
      ],
      "execution_count": 0,
      "outputs": [
        {
          "output_type": "stream",
          "text": [
            "Possible option:yes\n",
            "Possible option:no\n",
            "Possible option:maybe\n"
          ],
          "name": "stdout"
        }
      ]
    },
    {
      "cell_type": "code",
      "metadata": {
        "id": "11d2Fa9zSlZ5",
        "colab_type": "code",
        "colab": {}
      },
      "source": [
        ""
      ],
      "execution_count": 0,
      "outputs": []
    }
  ]
}
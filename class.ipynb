{
  "nbformat": 4,
  "nbformat_minor": 0,
  "metadata": {
    "colab": {
      "name": "class.ipynb",
      "provenance": [],
      "authorship_tag": "ABX9TyOjAmmkGJyyswvCLly+3/zl",
      "include_colab_link": true
    },
    "kernelspec": {
      "name": "python3",
      "display_name": "Python 3"
    }
  },
  "cells": [
    {
      "cell_type": "markdown",
      "metadata": {
        "id": "view-in-github",
        "colab_type": "text"
      },
      "source": [
        "<a href=\"https://colab.research.google.com/github/SunyoungHa/Python-Tableau-SQL-HTML/blob/Python-Tableau-SQL-HTML/class.ipynb\" target=\"_parent\"><img src=\"https://colab.research.google.com/assets/colab-badge.svg\" alt=\"Open In Colab\"/></a>"
      ]
    },
    {
      "cell_type": "code",
      "metadata": {
        "id": "I3qdOKG4LHLv",
        "colab_type": "code",
        "colab": {
          "base_uri": "https://localhost:8080/",
          "height": 156
        },
        "outputId": "72bc0cf0-e3be-48f3-c068-074cdaec2151"
      },
      "source": [
        "# source: Edureka python class \n",
        "\n",
        "class Student:\n",
        "\n",
        "  def __init__(self,first,last,score):\n",
        "    self.first = first\n",
        "    self.last = last\n",
        "    self.score = score\n",
        "    self.email = first+'.'+last+'@example.com'\n",
        "\n",
        "  def fullname(self):\n",
        "    return '{} {}'.format(self.first,self.last)\n",
        "\n",
        "  \n",
        "  def apply_raise(self):\n",
        "    self.score = int(self.score*1.08)\n",
        "  \n",
        "std1 = Student('sunyoung','ha', 90)\n",
        "\n",
        "print(std1.fullname())\n",
        "print(std1.email)\n",
        "print(std1.score)\n",
        "std1.apply_raise()\n",
        "print(std1.score)\n",
        "print(std1.__dict__)\n",
        "print(Student.__dict__)\n",
        "\n",
        "class Dumb(Student):\n",
        "    def __init__(self,first,last,score,programming_lang):\n",
        "      super().__init__(first,last,score)\n",
        "      self.programming_lang= programming_lang\n",
        "\n",
        "\n",
        "std1 = Dumb('sunyoung','ha', 90, 'Python')\n",
        "print(std1.programming_lang)\n",
        "\n",
        "\n"
      ],
      "execution_count": 29,
      "outputs": [
        {
          "output_type": "stream",
          "text": [
            "sunyoung ha\n",
            "sunyoung.ha@example.com\n",
            "90\n",
            "97\n",
            "{'first': 'sunyoung', 'last': 'ha', 'score': 97, 'email': 'sunyoung.ha@example.com'}\n",
            "{'__module__': '__main__', '__init__': <function Student.__init__ at 0x7f58553cd378>, 'fullname': <function Student.fullname at 0x7f58553cd950>, 'apply_raise': <function Student.apply_raise at 0x7f58553cdae8>, '__dict__': <attribute '__dict__' of 'Student' objects>, '__weakref__': <attribute '__weakref__' of 'Student' objects>, '__doc__': None}\n",
            "Python\n"
          ],
          "name": "stdout"
        }
      ]
    },
    {
      "cell_type": "code",
      "metadata": {
        "id": "blbPTKMzOpVU",
        "colab_type": "code",
        "colab": {
          "base_uri": "https://localhost:8080/",
          "height": 34
        },
        "outputId": "a2fa775c-ba62-4f1c-a3ff-67ae38953bec"
      },
      "source": [
        "#from abc import ABC, method\n",
        "class Employee(ABC):\n",
        "  def calculate_salary (self,sal):\n",
        "    pass\n",
        "\n",
        "class Developer(Employee):\n",
        "  def salary (self,sal):\n",
        "    finalsalary = sal *1.10\n",
        "    return finalsalary\n",
        "  \n",
        "  def position(self,position):\n",
        "    self.position = position\n",
        "    return position\n",
        "\n",
        "emp1=Developer()\n",
        "print(emp1.position('qa'))"
      ],
      "execution_count": 34,
      "outputs": [
        {
          "output_type": "stream",
          "text": [
            "qa\n"
          ],
          "name": "stdout"
        }
      ]
    },
    {
      "cell_type": "code",
      "metadata": {
        "id": "cMbqSPklaJn1",
        "colab_type": "code",
        "colab": {}
      },
      "source": [
        ""
      ],
      "execution_count": 0,
      "outputs": []
    }
  ]
}
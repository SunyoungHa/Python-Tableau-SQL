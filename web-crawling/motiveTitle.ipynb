{
 "cells": [
  {
   "cell_type": "code",
   "execution_count": 5,
   "metadata": {},
   "outputs": [
    {
     "name": "stdout",
     "output_type": "stream",
     "text": [
      "명량|극한직업|신과함께: 죄와 벌|국제시장|어벤져스: 엔드게임|아바타|베테랑|괴물|도둑들|7번방의 선물|암살|알라딘|광해, 왕이 된 남자|왕의 남자|신과함께: 인과 연|택시운전사|태극기 휘날리며|부산행|해운대|변호인|어벤져스: 인피니티 워|실미도|어벤져스: 에이지 오브 울트론|인터스텔라|겨울왕국|기생충|보헤미안 랩소디|검사외전|엑시트|설국열차|내부자들|관상|아이언맨 3|캡틴 아메리카: 시빌 워|해적: 바다로 간 산적|수상한 그녀|국가대표|디워|과속스캔들|친구|스파이더맨: 파 프롬 홈|웰컴 투 동막골|공조|트랜스포머 3|히말라야|미션 임파서블: 고스트 프로토콜|밀정|최종병기 활|써니|트랜스포머|트랜스포머: 패자의 역습|화려한 휴가|스파이더맨: 홈커밍|1987|베를린|마스터|터널|어벤져스|인천상륙작전|"
     ]
    }
   ],
   "source": [
    "import requests\n",
    "from bs4 import BeautifulSoup\n",
    "\n",
    "url = \"https://ko.wikipedia.org/wiki/%EB%8C%80%ED%95%9C%EB%AF%BC%EA%B5%AD%EC%9D%98_%EC%98%81%ED%99%94_%ED%9D%A5%ED%96%89_%EA%B8%B0%EB%A1%9D\"\n",
    "#대한민국의 영화 흥행 기록,위키백과\n",
    "\n",
    "page = requests.get(url)\n",
    "soup = BeautifulSoup(page.content,'html.parser')\n",
    "\n",
    "tables = list(soup.find_all('table', class_='wikitable'))\n",
    "\n",
    "#len(tables)\n",
    "#table_by_ranking = tables[0] # first table of 3 wikitables: by ranking, by year, by ticket sale\n",
    "\n",
    "#ranking_table = tables[0].find_all('td')\n",
    "#흥행 순위 목록\n",
    "\n",
    "td = tables[0].find_all('td')\n",
    "\n",
    "i = 0\n",
    "for title in td:\n",
    "    i=i+1\n",
    "    if i % 7 == 2:\n",
    "           print(title.get_text().replace('《','').replace('》','').strip(), end='|')"
   ]
  },
  {
   "cell_type": "code",
   "execution_count": 24,
   "metadata": {},
   "outputs": [
    {
     "ename": "AttributeError",
     "evalue": "'NoneType' object has no attribute 'find_all'",
     "output_type": "error",
     "traceback": [
      "\u001b[0;31m---------------------------------------------------------------------------\u001b[0m",
      "\u001b[0;31mAttributeError\u001b[0m                            Traceback (most recent call last)",
      "\u001b[0;32m<ipython-input-24-e55c529d289e>\u001b[0m in \u001b[0;36m<module>\u001b[0;34m\u001b[0m\n\u001b[1;32m     12\u001b[0m \u001b[0;34m\u001b[0m\u001b[0m\n\u001b[1;32m     13\u001b[0m \u001b[0;34m\u001b[0m\u001b[0m\n\u001b[0;32m---> 14\u001b[0;31m \u001b[0;32mfor\u001b[0m \u001b[0mrow\u001b[0m \u001b[0;32min\u001b[0m \u001b[0ma\u001b[0m\u001b[0;34m.\u001b[0m\u001b[0mfind_all\u001b[0m\u001b[0;34m(\u001b[0m\u001b[0;34m\"tr\"\u001b[0m\u001b[0;34m)\u001b[0m\u001b[0;34m:\u001b[0m\u001b[0;34m\u001b[0m\u001b[0;34m\u001b[0m\u001b[0m\n\u001b[0m\u001b[1;32m     15\u001b[0m     \u001b[0mcells\u001b[0m \u001b[0;34m=\u001b[0m \u001b[0mrow\u001b[0m\u001b[0;34m.\u001b[0m\u001b[0mfind_all\u001b[0m\u001b[0;34m(\u001b[0m\u001b[0;34m'td'\u001b[0m\u001b[0;34m)\u001b[0m\u001b[0;34m\u001b[0m\u001b[0;34m\u001b[0m\u001b[0m\n\u001b[1;32m     16\u001b[0m     \u001b[0mstates\u001b[0m\u001b[0;34m=\u001b[0m\u001b[0mrow\u001b[0m\u001b[0;34m.\u001b[0m\u001b[0mfind_all\u001b[0m\u001b[0;34m(\u001b[0m\u001b[0;34m'th'\u001b[0m\u001b[0;34m)\u001b[0m \u001b[0;31m#To store second column data\u001b[0m\u001b[0;34m\u001b[0m\u001b[0;34m\u001b[0m\u001b[0m\n",
      "\u001b[0;31mAttributeError\u001b[0m: 'NoneType' object has no attribute 'find_all'"
     ]
    }
   ],
   "source": [
    "import requests\n",
    "from bs4 import BeautifulSoup\n",
    "\n",
    "html = \"https://ko.wikipedia.org/wiki/%EB%8C%80%ED%95%9C%EB%AF%BC%EA%B5%AD%EC%9D%98_%EC%98%81%ED%99%94_%ED%9D%A5%ED%96%89_%EA%B8%B0%EB%A1%9D\"\n",
    "#대한민국의 영화 흥행 기록,위키백과\n",
    "bsObj = BeautifulSoup(html, \"html.parser\")\n",
    "\n",
    "a = bsObj.find(\"table\", {\"class\": \"wikitable\"})\n",
    "\n",
    "A=[]\n",
    "B=[]\n",
    "\n",
    "\n",
    "for row in a.find_all(\"tr\"):\n",
    "    cells = row.find_all('td')\n",
    "    states=row.find_all('th') #To store second column data\n",
    "    if len(cells)==2: #Only extract table body not heading\n",
    "        A.append(cells[0].find(text=True))\n",
    "        B.append(states[0].find(text=True))\n",
    "       \n"
   ]
  },
  {
   "cell_type": "code",
   "execution_count": 28,
   "metadata": {},
   "outputs": [
    {
     "name": "stdout",
     "output_type": "stream",
     "text": [
      "None\n"
     ]
    }
   ],
   "source": [
    "from urllib.request import urlopen\n",
    "from bs4 import BeautifulSoup\n",
    "import re\n",
    " \n",
    "html = \"https://ko.wikipedia.org/wiki/%EB%8C%80%ED%95%9C%EB%AF%BC%EA%B5%AD%EC%9D%98_%EC%98%81%ED%99%94_%ED%9D%A5%ED%96%89_%EA%B8%B0%EB%A1%9D\"\n",
    "#대한민국의 영화 흥행 기록,위키백과\n",
    "bsObj = BeautifulSoup(html, \"html.parser\")\n",
    "right_table=soup.find('table', class_='wikitable')\n"
   ]
  },
  {
   "cell_type": "code",
   "execution_count": null,
   "metadata": {},
   "outputs": [],
   "source": []
  },
  {
   "cell_type": "code",
   "execution_count": null,
   "metadata": {},
   "outputs": [],
   "source": []
  }
 ],
 "metadata": {
  "kernelspec": {
   "display_name": "Python 3",
   "language": "python",
   "name": "python3"
  },
  "language_info": {
   "codemirror_mode": {
    "name": "ipython",
    "version": 3
   },
   "file_extension": ".py",
   "mimetype": "text/x-python",
   "name": "python",
   "nbconvert_exporter": "python",
   "pygments_lexer": "ipython3",
   "version": "3.7.3"
  }
 },
 "nbformat": 4,
 "nbformat_minor": 2
}

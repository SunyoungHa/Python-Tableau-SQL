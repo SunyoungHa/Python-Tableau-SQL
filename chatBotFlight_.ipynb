{
  "nbformat": 4,
  "nbformat_minor": 0,
  "metadata": {
    "colab": {
      "name": "chatBotFlight    .ipynb",
      "provenance": [],
      "include_colab_link": true
    },
    "kernelspec": {
      "name": "python3",
      "display_name": "Python 3"
    }
  },
  "cells": [
    {
      "cell_type": "markdown",
      "metadata": {
        "id": "view-in-github",
        "colab_type": "text"
      },
      "source": [
        "<a href=\"https://colab.research.google.com/github/SunyoungHa/Python-Tableau-SQL-HTML/blob/master/chatBotFlight_.ipynb\" target=\"_parent\"><img src=\"https://colab.research.google.com/assets/colab-badge.svg\" alt=\"Open In Colab\"/></a>"
      ]
    },
    {
      "cell_type": "code",
      "metadata": {
        "id": "gKzCnhQHKxuH",
        "colab_type": "code",
        "colab": {}
      },
      "source": [
        "from nltk.chat.util import Chat, reflections"
      ],
      "execution_count": 0,
      "outputs": []
    },
    {
      "cell_type": "code",
      "metadata": {
        "id": "5RSLs9xgKzpX",
        "colab_type": "code",
        "colab": {}
      },
      "source": [
        " \n",
        " pairs = [ ['(hi|hello|hey|holla|hola)', ['hey there', 'hi there', 'haayyy']],\n",
        "    ['I would like to book the cheapest flight to (.*)', ['OK! When do you go to %1?']],\n",
        "    ['(.*)', [' I’m working on your reservation right now…']],\n",
        "]"
      ],
      "execution_count": 0,
      "outputs": []
    },
    {
      "cell_type": "code",
      "metadata": {
        "colab_type": "code",
        "outputId": "674778af-59e9-46ef-b871-faae054ad39c",
        "id": "mTdKgizhLCJQ",
        "colab": {
          "base_uri": "https://localhost:8080/",
          "height": 138
        }
      },
      "source": [
        "chat = Chat(pairs, reflections)\n",
        "chat.converse()"
      ],
      "execution_count": 0,
      "outputs": [
        {
          "output_type": "stream",
          "text": [
            ">hi\n",
            "haayyy\n",
            ">I would like to book the cheapest flight to Seoul\n",
            "OK! When do you go to seoul?\n",
            ">this Sunday\n",
            " I’m working on your reservation right now…\n"
          ],
          "name": "stdout"
        }
      ]
    },
    {
      "cell_type": "code",
      "metadata": {
        "id": "81wbwQgpLD3p",
        "colab_type": "code",
        "colab": {}
      },
      "source": [
        ""
      ],
      "execution_count": 0,
      "outputs": []
    }
  ]
}